{
 "cells": [
  {
   "cell_type": "code",
   "execution_count": 294,
   "metadata": {
    "collapsed": false
   },
   "outputs": [],
   "source": [
    "import numpy as np\n",
    "import pandas as pd\n",
    "import matplotlib as mpl\n",
    "import matplotlib.pyplot as plt\n",
    "from sklearn.cross_validation import KFold\n",
    "from sklearn.metrics import precision_recall_fscore_support as prfs\n",
    "from sklearn.metrics import accuracy_score as acc\n",
    "\n",
    "# Classifiers / pre-processing\n",
    "from sklearn.feature_extraction.text import TfidfVectorizer\n",
    "from sklearn.svm import LinearSVC\n",
    "from sklearn.ensemble import RandomForestClassifier\n",
    "import xgboost as xgb\n",
    "import spacy"
   ]
  },
  {
   "cell_type": "code",
   "execution_count": 199,
   "metadata": {
    "collapsed": false
   },
   "outputs": [
    {
     "data": {
      "text/html": [
       "<div>\n",
       "<table border=\"1\" class=\"dataframe\">\n",
       "  <thead>\n",
       "    <tr style=\"text-align: right;\">\n",
       "      <th></th>\n",
       "      <th>id</th>\n",
       "      <th>qid1</th>\n",
       "      <th>qid2</th>\n",
       "      <th>question1</th>\n",
       "      <th>question2</th>\n",
       "      <th>is_duplicate</th>\n",
       "    </tr>\n",
       "  </thead>\n",
       "  <tbody>\n",
       "    <tr>\n",
       "      <th>0</th>\n",
       "      <td>0</td>\n",
       "      <td>1</td>\n",
       "      <td>2</td>\n",
       "      <td>What is the step by step guide to invest in sh...</td>\n",
       "      <td>What is the step by step guide to invest in sh...</td>\n",
       "      <td>0</td>\n",
       "    </tr>\n",
       "    <tr>\n",
       "      <th>1</th>\n",
       "      <td>1</td>\n",
       "      <td>3</td>\n",
       "      <td>4</td>\n",
       "      <td>What is the story of Kohinoor (Koh-i-Noor) Dia...</td>\n",
       "      <td>What would happen if the Indian government sto...</td>\n",
       "      <td>0</td>\n",
       "    </tr>\n",
       "    <tr>\n",
       "      <th>2</th>\n",
       "      <td>2</td>\n",
       "      <td>5</td>\n",
       "      <td>6</td>\n",
       "      <td>How can I increase the speed of my internet co...</td>\n",
       "      <td>How can Internet speed be increased by hacking...</td>\n",
       "      <td>0</td>\n",
       "    </tr>\n",
       "    <tr>\n",
       "      <th>3</th>\n",
       "      <td>3</td>\n",
       "      <td>7</td>\n",
       "      <td>8</td>\n",
       "      <td>Why am I mentally very lonely? How can I solve...</td>\n",
       "      <td>Find the remainder when [math]23^{24}[/math] i...</td>\n",
       "      <td>0</td>\n",
       "    </tr>\n",
       "    <tr>\n",
       "      <th>4</th>\n",
       "      <td>4</td>\n",
       "      <td>9</td>\n",
       "      <td>10</td>\n",
       "      <td>Which one dissolve in water quikly sugar, salt...</td>\n",
       "      <td>Which fish would survive in salt water?</td>\n",
       "      <td>0</td>\n",
       "    </tr>\n",
       "  </tbody>\n",
       "</table>\n",
       "</div>"
      ],
      "text/plain": [
       "   id  qid1  qid2                                          question1  \\\n",
       "0   0     1     2  What is the step by step guide to invest in sh...   \n",
       "1   1     3     4  What is the story of Kohinoor (Koh-i-Noor) Dia...   \n",
       "2   2     5     6  How can I increase the speed of my internet co...   \n",
       "3   3     7     8  Why am I mentally very lonely? How can I solve...   \n",
       "4   4     9    10  Which one dissolve in water quikly sugar, salt...   \n",
       "\n",
       "                                           question2  is_duplicate  \n",
       "0  What is the step by step guide to invest in sh...             0  \n",
       "1  What would happen if the Indian government sto...             0  \n",
       "2  How can Internet speed be increased by hacking...             0  \n",
       "3  Find the remainder when [math]23^{24}[/math] i...             0  \n",
       "4            Which fish would survive in salt water?             0  "
      ]
     },
     "execution_count": 199,
     "metadata": {},
     "output_type": "execute_result"
    }
   ],
   "source": [
    "df = pd.read_csv(\"./quora_duplicate_questions.tsv\", sep='\\t', encoding='utf-8')\n",
    "df = df[~df.question1.isnull() & ~df.question2.isnull() & ~df.is_duplicate.isnull()]\n",
    "df.head()"
   ]
  },
  {
   "cell_type": "code",
   "execution_count": 43,
   "metadata": {
    "collapsed": false,
    "scrolled": true
   },
   "outputs": [
    {
     "data": {
      "text/plain": [
       "<matplotlib.axes._subplots.AxesSubplot at 0x1abd0e210>"
      ]
     },
     "execution_count": 43,
     "metadata": {},
     "output_type": "execute_result"
    },
    {
     "data": {
      "image/png": "[encoded data removed]",
      "text/plain": [
       "<matplotlib.figure.Figure at 0x1abcecf50>"
      ]
     },
     "metadata": {},
     "output_type": "display_data"
    }
   ],
   "source": [
    "%matplotlib inline\n",
    "mpl.style.use('fivethirtyeight')\n",
    "plt.xlabel(\"is_duplicate\")\n",
    "(df.is_duplicate.value_counts() / df.is_duplicate.value_counts().sum()).plot(kind='bar')"
   ]
  },
  {
   "cell_type": "code",
   "execution_count": 44,
   "metadata": {
    "collapsed": false
   },
   "outputs": [],
   "source": [
    "nlp = spacy.load(\"en\")"
   ]
  },
  {
   "cell_type": "markdown",
   "metadata": {},
   "source": [
    "## Base models settings\n",
    "---\n",
    "### TF-IDF configuration:\n",
    "- grams: unigrams, bigrams\n",
    "- binary: false (so far)"
   ]
  },
  {
   "cell_type": "code",
   "execution_count": 51,
   "metadata": {
    "collapsed": false
   },
   "outputs": [],
   "source": [
    "tfidf = TfidfVectorizer(ngram_range=(1, 2)).fit(pd.concat([df.question1, df.question2]))\n",
    "X = tfidf.transform(df.question1) - tfidf.transform(df.question2) # diff matrix"
   ]
  },
  {
   "cell_type": "markdown",
   "metadata": {},
   "source": [
    "### LinearSVM"
   ]
  },
  {
   "cell_type": "code",
   "execution_count": 233,
   "metadata": {
    "collapsed": false
   },
   "outputs": [
    {
     "name": "stdout",
     "output_type": "stream",
     "text": [
      "LinearSVM performance on 80/20 split w/ TFIDF\n",
      "0.65\t0.64\t0.65\n",
      "acc: 0.64\n"
     ]
    }
   ],
   "source": [
    "y = df.is_duplicate\n",
    "cut = int(X.shape[0] * .8)\n",
    "X_train, y_train = X[:cut], y[:cut]\n",
    "X_test, y_test = X[cut:], y[cut:]\n",
    "svm = LinearSVC()\n",
    "svm.fit(X_train, y_train)\n",
    "y_pred = svm.predict(X_test)\n",
    "p, r, f, _ = prfs(y_test, y_pred, average='weighted')\n",
    "print \"LinearSVM performance on 80/20 split w/ TFIDF\"\n",
    "print \"%.2f\\t%.2f\\t%.2f\" % (p, r, f)\n",
    "print \"acc: %.2f\" % acc(y_test, y_pred)"
   ]
  },
  {
   "cell_type": "code",
   "execution_count": 234,
   "metadata": {
    "collapsed": false
   },
   "outputs": [],
   "source": [
    "# Code below commented for \"safety\"\n",
    "# It takes a while to run - did not measure, but roughly 35-40min\n",
    "# Should not be needed to re-run unless some major change was applied\n",
    "\n",
    "def question2vec(question):\n",
    "    return nlp(question).vector\n",
    "\n",
    "# X_question1 = np.array(df.question1.apply(question2vec).tolist())\n",
    "# X_question2 = np.array(df.question2.apply(question2vec).tolist())\n",
    "# X_mean = (X_question1 + X_question2) / 2\n",
    "# X_diff = np.absolute(X_question1 - X_question2)"
   ]
  },
  {
   "cell_type": "code",
   "execution_count": 235,
   "metadata": {
    "collapsed": false
   },
   "outputs": [
    {
     "name": "stdout",
     "output_type": "stream",
     "text": [
      "training...\n",
      "[LibLinear]elapsed 249s\n",
      "LinearSVM performance on 80/20 split w/ mean doc2vec\n",
      "0.69\t0.70\t0.68\n",
      "(array([ 0.72037081,  0.63376127]), array([ 0.87051416,  0.3987146 ]), array([ 0.78835743,  0.48948334]), array([51774, 29096]))\n",
      "acc: 0.70\n"
     ]
    }
   ],
   "source": [
    "y = df.is_duplicate\n",
    "cut = int(X_mean.shape[0] * .8)\n",
    "X_train, y_train = X_mean[:cut], y[:cut]\n",
    "X_test, y_test = X_mean[cut:], y[cut:]\n",
    "svm = LinearSVC(verbose=2)\n",
    "print 'training...'\n",
    "from time import time\n",
    "t0 = time()\n",
    "svm.fit(X_train, y_train)\n",
    "t0 = time() - t0\n",
    "print 'elapsed %.0fs' % t0\n",
    "\n",
    "y_pred = svm.predict(X_test)\n",
    "p, r, f, _ = prfs(y_test, y_pred, average='weighted')\n",
    "print \"LinearSVM performance on 80/20 split w/ mean doc2vec\"\n",
    "print \"%.2f\\t%.2f\\t%.2f\" % (p, r, f)\n",
    "print prfs(y_test, y_pred)\n",
    "print \"acc: %.2f\" % acc(y_test, y_pred)"
   ]
  },
  {
   "cell_type": "code",
   "execution_count": 236,
   "metadata": {
    "collapsed": false
   },
   "outputs": [
    {
     "name": "stdout",
     "output_type": "stream",
     "text": [
      "training...\n",
      "[LibLinear]elapsed 108s\n",
      "LinearSVM performance on 80/20 split w/ doc2vec-diff\n",
      "0.65\t0.67\t0.64\n",
      "(array([ 0.69692668,  0.55550663]), array([ 0.84401437,  0.34688617]), array([ 0.76345054,  0.42708135]), array([51774, 29096]))\n",
      "acc: 0.67\n"
     ]
    }
   ],
   "source": [
    "y = df.is_duplicate\n",
    "cut = int(X_diff.shape[0] * .8)\n",
    "X_train, y_train = X_diff[:cut], y[:cut]\n",
    "X_test, y_test = X_diff[cut:], y[cut:]\n",
    "svm = LinearSVC(verbose=2)\n",
    "print 'training...'\n",
    "from time import time\n",
    "t0 = time()\n",
    "svm.fit(X_train, y_train)\n",
    "t0 = time() - t0\n",
    "print 'elapsed %.0fs' % t0\n",
    "\n",
    "y_pred = svm.predict(X_test)\n",
    "p, r, f, _ = prfs(y_test, y_pred, average='weighted')\n",
    "print \"LinearSVM performance on 80/20 split w/ doc2vec-diff\"\n",
    "print \"%.2f\\t%.2f\\t%.2f\" % (p, r, f)\n",
    "print prfs(y_test, y_pred)\n",
    "print \"acc: %.2f\" % acc(y_test, y_pred)"
   ]
  },
  {
   "cell_type": "markdown",
   "metadata": {},
   "source": [
    "### XGboost"
   ]
  },
  {
   "cell_type": "code",
   "execution_count": 232,
   "metadata": {
    "collapsed": false
   },
   "outputs": [
    {
     "name": "stdout",
     "output_type": "stream",
     "text": [
      "training...\n",
      "elapsed 72s\n",
      "Xgboost performance on 80/20 split w/ TFIDF diff vector\n",
      "0.72\t0.68\t0.61\n",
      "(array([ 0.67517268,  0.79438631]), array([ 0.97608838,  0.16438686]), array([ 0.79821202,  0.27240368]), array([51774, 29096]))\n",
      "acc: 0.68\n"
     ]
    }
   ],
   "source": [
    "def train_xgb(xt, yt):\n",
    "    dtrain = xgb.DMatrix(xt.tocsc(), label=yt)\n",
    "    dtrain.save_binary(\"train.buffer\")\n",
    "    num_round = 10\n",
    "\n",
    "    param = {}\n",
    "    param['nthread'] = 4\n",
    "    param['eval_metric'] = 'auc'\n",
    "    param['objective'] = 'multi:softprob'\n",
    "    param['eta'] = 0.1\n",
    "    param['max_depth'] = 6\n",
    "    param['silent'] = 1\n",
    "    param['nthread'] = 4\n",
    "    param['num_class'] = set(yt).__len__()\n",
    "\n",
    "    plst = param.items()\n",
    "    bst = xgb.train(plst, dtrain, num_round)\n",
    "    return bst\n",
    "\n",
    "def pred_xgb(bst, x_ts):\n",
    "    dtest = xgb.DMatrix(x_ts.tocsc())\n",
    "    return np.argmax(bst.predict(dtest), axis=1)\n",
    "\n",
    "y = df.is_duplicate\n",
    "cut = int(X.shape[0] * .8)\n",
    "X_train, y_train = X[:cut], y[:cut]\n",
    "X_test, y_test = X[cut:], y[cut:]\n",
    "t0 = time()\n",
    "print 'training...'\n",
    "bst = train_xgb(X_train, y_train)\n",
    "t0 = time() - t0\n",
    "print 'elapsed %.0fs' % t0\n",
    "y_pred = pred_xgb(bst, X_test)\n",
    "p, r, f, _ = prfs(y_test, y_pred, average='weighted')\n",
    "print \"Xgboost performance on 80/20 split w/ TFIDF diff vector\"\n",
    "print \"%.2f\\t%.2f\\t%.2f\" % (p, r, f)\n",
    "print prfs(y_test, y_pred)\n",
    "print \"acc: %.2f\" % acc(y_test, y_pred)"
   ]
  },
  {
   "cell_type": "code",
   "execution_count": 231,
   "metadata": {
    "collapsed": false
   },
   "outputs": [
    {
     "name": "stdout",
     "output_type": "stream",
     "text": [
      "training...\n",
      "elapsed 163s\n",
      "Xgboost performance on 80/20 split w/ mean doc2vec vectors\n",
      "0.70\t0.70\t0.66\n",
      "(array([ 0.7025857 ,  0.69377652]), array([ 0.92473056,  0.30344377]), array([ 0.79849564,  0.42221797]), array([51774, 29096]))\n",
      "acc: 0.70\n"
     ]
    }
   ],
   "source": [
    "def train_xgb(xt, yt):\n",
    "    dtrain = xgb.DMatrix(xt, label=yt)\n",
    "    dtrain.save_binary(\"train.buffer\")\n",
    "    num_round = 10\n",
    "\n",
    "    param = {}\n",
    "    param['nthread'] = 4\n",
    "    param['eval_metric'] = 'auc'\n",
    "    param['objective'] = 'multi:softprob'\n",
    "    param['eta'] = 0.1\n",
    "    param['max_depth'] = 6\n",
    "    param['silent'] = 1\n",
    "    param['nthread'] = 4\n",
    "    param['num_class'] = set(yt).__len__()\n",
    "\n",
    "    plst = param.items()\n",
    "    bst = xgb.train(plst, dtrain, num_round)\n",
    "    return bst\n",
    "\n",
    "def pred_xgb(bst, x_ts):\n",
    "    dtest = xgb.DMatrix(x_ts)\n",
    "    return np.argmax(bst.predict(dtest), axis=1)\n",
    "\n",
    "y = df.is_duplicate\n",
    "cut = int(X_mean.shape[0] * .8)\n",
    "X_train, y_train = X_mean[:cut], y[:cut]\n",
    "X_test, y_test = X_mean[cut:], y[cut:]\n",
    "t0 = time()\n",
    "print 'training...'\n",
    "bst = train_xgb(X_train, y_train)\n",
    "t0 = time() - t0\n",
    "print 'elapsed %.0fs' % t0\n",
    "y_pred = pred_xgb(bst, X_test)\n",
    "p, r, f, _ = prfs(y_test, y_pred, average='weighted')\n",
    "print \"Xgboost performance on 80/20 split w/ mean doc2vec vectors\"\n",
    "print \"%.2f\\t%.2f\\t%.2f\" % (p, r, f)\n",
    "print prfs(y_test, y_pred)\n",
    "print \"acc: %.2f\" % acc(y_test, y_pred)"
   ]
  },
  {
   "cell_type": "code",
   "execution_count": 230,
   "metadata": {
    "collapsed": false
   },
   "outputs": [
    {
     "name": "stdout",
     "output_type": "stream",
     "text": [
      "training...\n",
      "elapsed 168s\n",
      "Xgboost performance on 80/20 split w/ diff doc2vec vectors\n",
      "0.66\t0.68\t0.65\n",
      "(array([ 0.69922819,  0.5927444 ]), array([ 0.87142195,  0.3330011 ]), array([ 0.77588609,  0.4264337 ]), array([51774, 29096]))\n",
      "acc: 0.68\n"
     ]
    }
   ],
   "source": [
    "def train_xgb(xt, yt):\n",
    "    dtrain = xgb.DMatrix(xt, label=yt)\n",
    "    dtrain.save_binary(\"train.buffer\")\n",
    "    num_round = 10\n",
    "\n",
    "    param = {}\n",
    "    param['nthread'] = 4\n",
    "    param['eval_metric'] = 'auc'\n",
    "    param['objective'] = 'multi:softprob'\n",
    "    param['eta'] = 0.1\n",
    "    param['max_depth'] = 6\n",
    "    param['silent'] = 1\n",
    "    param['nthread'] = 4\n",
    "    param['num_class'] = set(yt).__len__()\n",
    "\n",
    "    plst = param.items()\n",
    "    bst = xgb.train(plst, dtrain, num_round)\n",
    "    return bst\n",
    "\n",
    "def pred_xgb(bst, x_ts):\n",
    "    dtest = xgb.DMatrix(x_ts)\n",
    "    return np.argmax(bst.predict(dtest), axis=1)\n",
    "\n",
    "y = df.is_duplicate\n",
    "cut = int(X_diff.shape[0] * .8)\n",
    "X_train, y_train = X_diff[:cut], y[:cut]\n",
    "X_test, y_test = X_diff[cut:], y[cut:]\n",
    "t0 = time()\n",
    "print 'training...'\n",
    "bst = train_xgb(X_train, y_train)\n",
    "t0 = time() - t0\n",
    "print 'elapsed %.0fs' % t0\n",
    "y_pred = pred_xgb(bst, X_test)\n",
    "p, r, f, _ = prfs(y_test, y_pred, average='weighted')\n",
    "print \"Xgboost performance on 80/20 split w/ diff doc2vec vectors\"\n",
    "print \"%.2f\\t%.2f\\t%.2f\" % (p, r, f)\n",
    "print prfs(y_test, y_pred)\n",
    "print \"acc: %.2f\" % acc(y_test, y_pred)"
   ]
  },
  {
   "cell_type": "markdown",
   "metadata": {},
   "source": [
    "## Random Forest"
   ]
  },
  {
   "cell_type": "code",
   "execution_count": 244,
   "metadata": {
    "collapsed": false
   },
   "outputs": [
    {
     "name": "stdout",
     "output_type": "stream",
     "text": [
      "training...\n",
      "building tree 1 of 10\n"
     ]
    },
    {
     "name": "stderr",
     "output_type": "stream",
     "text": [
      "[Parallel(n_jobs=1)]: Done   1 out of   1 | elapsed:    2.6s remaining:    0.0s\n"
     ]
    },
    {
     "name": "stdout",
     "output_type": "stream",
     "text": [
      "building tree 2 of 10\n",
      "building tree 3 of 10\n",
      "building tree 4 of 10\n",
      "building tree 5 of 10\n",
      "building tree 6 of 10\n",
      "building tree 7 of 10\n",
      "building tree 8 of 10\n",
      "building tree 9 of 10\n",
      "building tree 10 of 10\n"
     ]
    },
    {
     "name": "stderr",
     "output_type": "stream",
     "text": [
      "[Parallel(n_jobs=1)]: Done  10 out of  10 | elapsed:   23.7s finished\n",
      "[Parallel(n_jobs=1)]: Done   1 out of   1 | elapsed:    0.0s remaining:    0.0s\n"
     ]
    },
    {
     "name": "stdout",
     "output_type": "stream",
     "text": [
      "elapsed 25s\n",
      "RandomForest performance 50 estimators on 80/20 split w/ mean tf-idf vector\n",
      "0.77\t0.64\t0.50\n",
      "(array([ 0.64053743,  1.        ]), array([ 1.        ,  0.00140913]), array([ 0.78088731,  0.00281429]), array([51774, 29096]))\n",
      "acc: 0.64\n"
     ]
    },
    {
     "name": "stderr",
     "output_type": "stream",
     "text": [
      "[Parallel(n_jobs=1)]: Done  10 out of  10 | elapsed:    0.4s finished\n"
     ]
    }
   ],
   "source": [
    "y = df.is_duplicate\n",
    "cut = int(X_mean.shape[0] * .8)\n",
    "X_train, y_train = X[:cut], y[:cut]\n",
    "X_test, y_test = X[cut:], y[cut:]\n",
    "rf = RandomForestClassifier(verbose=2, n_estimators=10, max_depth=6)\n",
    "print 'training...'\n",
    "from time import time\n",
    "t0 = time()\n",
    "rf.fit(X_train, y_train)\n",
    "t0 = time() - t0\n",
    "print 'elapsed %.0fs' % t0\n",
    "\n",
    "y_pred = rf.predict(X_test)\n",
    "p, r, f, _ = prfs(y_test, y_pred, average='weighted')\n",
    "print \"RandomForest performance 50 estimators on 80/20 split w/ mean tf-idf vector\"\n",
    "print \"%.2f\\t%.2f\\t%.2f\" % (p, r, f)\n",
    "print prfs(y_test, y_pred)\n",
    "print \"acc: %.2f\" % acc(y_test, y_pred)"
   ]
  },
  {
   "cell_type": "code",
   "execution_count": 241,
   "metadata": {
    "collapsed": false
   },
   "outputs": [
    {
     "name": "stdout",
     "output_type": "stream",
     "text": [
      "training...\n",
      "building tree 1 of 10\n"
     ]
    },
    {
     "name": "stderr",
     "output_type": "stream",
     "text": [
      "[Parallel(n_jobs=1)]: Done   1 out of   1 | elapsed:   12.3s remaining:    0.0s\n"
     ]
    },
    {
     "name": "stdout",
     "output_type": "stream",
     "text": [
      "building tree 2 of 10\n",
      "building tree 3 of 10\n",
      "building tree 4 of 10\n",
      "building tree 5 of 10\n",
      "building tree 6 of 10\n",
      "building tree 7 of 10\n",
      "building tree 8 of 10\n",
      "building tree 9 of 10\n",
      "building tree 10 of 10\n"
     ]
    },
    {
     "name": "stderr",
     "output_type": "stream",
     "text": [
      "[Parallel(n_jobs=1)]: Done  10 out of  10 | elapsed:  2.1min finished\n",
      "[Parallel(n_jobs=1)]: Done   1 out of   1 | elapsed:    0.0s remaining:    0.0s\n"
     ]
    },
    {
     "name": "stdout",
     "output_type": "stream",
     "text": [
      "elapsed 125s\n",
      "RandomForest performance 50 estimators on 80/20 split w/ mean doc2vec-diff vector\n",
      "0.66\t0.68\t0.66\n",
      "(array([ 0.70489173,  0.58688012]), array([ 0.85695523,  0.3615961 ]), array([ 0.77352093,  0.44748315]), array([51774, 29096]))\n",
      "acc: 0.68\n"
     ]
    },
    {
     "name": "stderr",
     "output_type": "stream",
     "text": [
      "[Parallel(n_jobs=1)]: Done  10 out of  10 | elapsed:    0.5s finished\n"
     ]
    }
   ],
   "source": [
    "y = df.is_duplicate\n",
    "cut = int(X_diff.shape[0] * .8)\n",
    "X_train, y_train = X_diff[:cut], y[:cut]\n",
    "X_test, y_test = X_diff[cut:], y[cut:]\n",
    "rf = RandomForestClassifier(verbose=2, n_estimators=10)\n",
    "print 'training...'\n",
    "from time import time\n",
    "t0 = time()\n",
    "rf.fit(X_train, y_train)\n",
    "t0 = time() - t0\n",
    "print 'elapsed %.0fs' % t0\n",
    "\n",
    "y_pred = rf.predict(X_test)\n",
    "p, r, f, _ = prfs(y_test, y_pred, average='weighted')\n",
    "print \"RandomForest performance 50 estimators on 80/20 split w/ mean doc2vec-diff vector\"\n",
    "print \"%.2f\\t%.2f\\t%.2f\" % (p, r, f)\n",
    "print prfs(y_test, y_pred)\n",
    "print \"acc: %.2f\" % acc(y_test, y_pred)"
   ]
  },
  {
   "cell_type": "code",
   "execution_count": 243,
   "metadata": {
    "collapsed": false
   },
   "outputs": [
    {
     "name": "stdout",
     "output_type": "stream",
     "text": [
      "training...\n",
      "building tree 1 of 10\n"
     ]
    },
    {
     "name": "stderr",
     "output_type": "stream",
     "text": [
      "[Parallel(n_jobs=1)]: Done   1 out of   1 | elapsed:   13.3s remaining:    0.0s\n"
     ]
    },
    {
     "name": "stdout",
     "output_type": "stream",
     "text": [
      "building tree 2 of 10\n",
      "building tree 3 of 10\n",
      "building tree 4 of 10\n",
      "building tree 5 of 10\n",
      "building tree 6 of 10\n",
      "building tree 7 of 10\n",
      "building tree 8 of 10\n",
      "building tree 9 of 10\n",
      "building tree 10 of 10\n"
     ]
    },
    {
     "name": "stderr",
     "output_type": "stream",
     "text": [
      "[Parallel(n_jobs=1)]: Done  10 out of  10 | elapsed:  2.4min finished\n",
      "[Parallel(n_jobs=1)]: Done   1 out of   1 | elapsed:    0.1s remaining:    0.0s\n"
     ]
    },
    {
     "name": "stdout",
     "output_type": "stream",
     "text": [
      "elapsed 145s\n",
      "RandomForest performance 50 estimators on 80/20 split w/ mean doc2vec-mean vector\n",
      "0.74\t0.75\t0.73\n",
      "(array([ 0.75534843,  0.71433616]), array([ 0.89062077,  0.4866992 ]), array([ 0.81742599,  0.57894522]), array([51774, 29096]))\n",
      "acc: 0.75\n"
     ]
    },
    {
     "name": "stderr",
     "output_type": "stream",
     "text": [
      "[Parallel(n_jobs=1)]: Done  10 out of  10 | elapsed:    0.7s finished\n"
     ]
    }
   ],
   "source": [
    "y = df.is_duplicate\n",
    "cut = int(X_mean.shape[0] * .8)\n",
    "X_train, y_train = X_mean[:cut], y[:cut]\n",
    "X_test, y_test = X_mean[cut:], y[cut:]\n",
    "rf = RandomForestClassifier(verbose=2, n_estimators=10)\n",
    "print 'training...'\n",
    "from time import time\n",
    "t0 = time()\n",
    "rf.fit(X_train, y_train)\n",
    "t0 = time() - t0\n",
    "print 'elapsed %.0fs' % t0\n",
    "\n",
    "y_pred = rf.predict(X_test)\n",
    "p, r, f, _ = prfs(y_test, y_pred, average='weighted')\n",
    "print \"RandomForest performance 50 estimators on 80/20 split w/ mean doc2vec-mean vector\"\n",
    "print \"%.2f\\t%.2f\\t%.2f\" % (p, r, f)\n",
    "print prfs(y_test, y_pred)\n",
    "print \"acc: %.2f\" % acc(y_test, y_pred)"
   ]
  },
  {
   "cell_type": "markdown",
   "metadata": {},
   "source": [
    "### MLP"
   ]
  },
  {
   "cell_type": "code",
   "execution_count": 246,
   "metadata": {
    "collapsed": false
   },
   "outputs": [],
   "source": [
    "from keras.layers import Dense, Input\n",
    "from keras.models import Model"
   ]
  },
  {
   "cell_type": "code",
   "execution_count": 277,
   "metadata": {
    "collapsed": false
   },
   "outputs": [
    {
     "name": "stdout",
     "output_type": "stream",
     "text": [
      "____________________________________________________________________________________________________\n",
      "Layer (type)                     Output Shape          Param #     Connected to                     \n",
      "====================================================================================================\n",
      "input (InputLayer)               (None, 300)           0                                            \n",
      "____________________________________________________________________________________________________\n",
      "dense_13 (Dense)                 (None, 50)            15050       input[0][0]                      \n",
      "____________________________________________________________________________________________________\n",
      "dense_14 (Dense)                 (None, 2)             102         dense_13[0][0]                   \n",
      "====================================================================================================\n",
      "Total params: 15152\n",
      "____________________________________________________________________________________________________\n"
     ]
    }
   ],
   "source": [
    "input_ = Input(shape=(300,), name='input')\n",
    "x = Dense(50, activation='relu')(input_)\n",
    "output = Dense(2, activation='softmax')(x)\n",
    "model = Model(input_, output, name='mlp')\n",
    "model.compile('adagrad', 'binary_crossentropy')\n",
    "model.summary()"
   ]
  },
  {
   "cell_type": "code",
   "execution_count": 292,
   "metadata": {
    "collapsed": false
   },
   "outputs": [
    {
     "name": "stdout",
     "output_type": "stream",
     "text": [
      "Epoch 1/5\n",
      "323479/323479 [==============================] - 31s - loss: 0.5608    \n",
      "Epoch 2/5\n",
      "323479/323479 [==============================] - 31s - loss: 0.5523    \n",
      "Epoch 3/5\n",
      "323479/323479 [==============================] - 30s - loss: 0.5469    \n",
      "Epoch 4/5\n",
      "323479/323479 [==============================] - 29s - loss: 0.5428    \n",
      "Epoch 5/5\n",
      "323479/323479 [==============================] - 30s - loss: 0.5396    \n",
      "MLP performance 1 hidden layer 5 epochs on 80/20 split w/ doc2vec-mean vector\n",
      "0.73\t0.73\t0.72\n",
      "(array([ 0.75325504,  0.67498946]), array([ 0.86599451,  0.49522271]), array([ 0.80570006,  0.5712983 ]), array([51774, 29096]))\n",
      "acc: 0.73\n"
     ]
    }
   ],
   "source": [
    "y = df.is_duplicate\n",
    "y = np.array(y.apply(lambda x: (1, 0) if x == 0 else (0, 1)).tolist())\n",
    "\n",
    "cut = int(X_mean.shape[0] * .8)\n",
    "X_train, y_train = X_mean[:cut], y[:cut]\n",
    "X_test, y_test = X_mean[cut:], y[cut:].argmax(axis=1)\n",
    "\n",
    "hist = model.fit(X_train, y_train, nb_epoch=5, verbose=1)\n",
    "y_pred = model.predict(X_test).argmax(axis=1)\n",
    "p, r, f, _ = prfs(y_test, y_pred, average='weighted')\n",
    "print \"MLP performance 1 hidden layer 5 epochs on 80/20 split w/ doc2vec-mean vector\"\n",
    "print \"%.2f\\t%.2f\\t%.2f\" % (p, r, f)\n",
    "print prfs(y_test, y_pred)\n",
    "print \"acc: %.2f\" % acc(y_test, y_pred)"
   ]
  },
  {
   "cell_type": "code",
   "execution_count": 293,
   "metadata": {
    "collapsed": false
   },
   "outputs": [
    {
     "name": "stdout",
     "output_type": "stream",
     "text": [
      "Epoch 1/5\n",
      "323479/323479 [==============================] - 33s - loss: 0.5924    \n",
      "Epoch 2/5\n",
      "323479/323479 [==============================] - 30s - loss: 0.5723    \n",
      "Epoch 3/5\n",
      "323479/323479 [==============================] - 31s - loss: 0.5690    \n",
      "Epoch 4/5\n",
      "323479/323479 [==============================] - 34s - loss: 0.5676    \n",
      "Epoch 5/5\n",
      "323479/323479 [==============================] - 37s - loss: 0.5668    \n",
      "MLP performance 1 hidden layer 5 epochs on 80/20 split w/ doc2vec-diff vector\n",
      "0.69\t0.69\t0.69\n",
      "(array([ 0.74647603,  0.57920867]), array([ 0.78554873,  0.5252612 ]), array([ 0.76551413,  0.55091741]), array([51774, 29096]))\n",
      "acc: 0.69\n"
     ]
    }
   ],
   "source": [
    "y = df.is_duplicate\n",
    "y = np.array(y.apply(lambda x: (1, 0) if x == 0 else (0, 1)).tolist())\n",
    "\n",
    "cut = int(X_diff.shape[0] * .8)\n",
    "X_train, y_train = X_diff[:cut], y[:cut]\n",
    "X_test, y_test = X_diff[cut:], y[cut:].argmax(axis=1)\n",
    "\n",
    "hist = model.fit(X_train, y_train, nb_epoch=5, verbose=1)\n",
    "y_pred = model.predict(X_test).argmax(axis=1)\n",
    "p, r, f, _ = prfs(y_test, y_pred, average='weighted')\n",
    "print \"MLP performance 1 hidden layer 5 epochs on 80/20 split w/ doc2vec-diff vector\"\n",
    "print \"%.2f\\t%.2f\\t%.2f\" % (p, r, f)\n",
    "print prfs(y_test, y_pred)\n",
    "print \"acc: %.2f\" % acc(y_test, y_pred)"
   ]
  },
  {
   "cell_type": "code",
   "execution_count": null,
   "metadata": {
    "collapsed": true
   },
   "outputs": [],
   "source": []
  }
 ],
 "metadata": {
  "anaconda-cloud": {},
  "kernelspec": {
   "display_name": "Python [conda env:tensorflow]",
   "language": "python",
   "name": "conda-env-tensorflow-py"
  },
  "language_info": {
   "codemirror_mode": {
    "name": "ipython",
    "version": 2
   },
   "file_extension": ".py",
   "mimetype": "text/x-python",
   "name": "python",
   "nbconvert_exporter": "python",
   "pygments_lexer": "ipython2",
   "version": "2.7.12"
  }
 },
 "nbformat": 4,
 "nbformat_minor": 1
}
